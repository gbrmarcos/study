{
  "nbformat": 4,
  "nbformat_minor": 0,
  "metadata": {
    "colab": {
      "name": "CalculadoraBasicaPython.ipynb",
      "provenance": [],
      "collapsed_sections": []
    },
    "kernelspec": {
      "name": "python3",
      "display_name": "Python 3"
    },
    "language_info": {
      "name": "python"
    }
  },
  "cells": [
    {
      "cell_type": "markdown",
      "source": [
        "Criação de Calculadora em Python"
      ],
      "metadata": {
        "id": "nEQhG9jEIOHz"
      }
    },
    {
      "cell_type": "markdown",
      "source": [
        "*Definições das Funções de onde virão as operações*\n"
      ],
      "metadata": {
        "id": "0P9bO533IiVI"
      }
    },
    {
      "cell_type": "code",
      "source": [
        "def soma(n1, n2): \n",
        "  print(\"Função Escolhida: Soma\")\n",
        "  return n1 + n2\n",
        "def subtracao(n1, n2):\n",
        "  print(\"Função Escolhida: Subtração\")\n",
        "  return n1 - n2\n",
        "  print(resultado)\n",
        "  return\n",
        "def multiplicacao(n1, n2):\n",
        "  print(\"Função Escolhida: Multiplicação\")\n",
        "  resultado = n1 * n2\n",
        "  print(resultado)\n",
        "  return\n",
        "def divisao(n1, n2):\n",
        "  print(\"Função Escolhida: Divisão\")\n",
        "  resultado = n1 / n2\n",
        "  print(resultado)\n",
        "  return\n",
        "def potencia(n1, n2):\n",
        "  print(\"Função Escolhida: Potenciação\")\n",
        "  resultado = n1 ** n2\n",
        "  print(resultado)\n",
        "  return"
      ],
      "metadata": {
        "id": "SI25sZ3GOqWS"
      },
      "execution_count": 47,
      "outputs": []
    },
    {
      "cell_type": "markdown",
      "source": [
        "*Após a definição das funções a serem chamadas, é a hora da operação:*"
      ],
      "metadata": {
        "id": "o2IdlYXuQNRF"
      }
    },
    {
      "cell_type": "code",
      "execution_count": 46,
      "metadata": {
        "colab": {
          "base_uri": "https://localhost:8080/"
        },
        "id": "GyzNAgH3ILlB",
        "outputId": "2ffa4ced-e268-4094-d400-5a9c0b3666c5"
      },
      "outputs": [
        {
          "output_type": "stream",
          "name": "stdout",
          "text": [
            "********** Calculadora Python ********** \n",
            " Selecione a operação desejada \n",
            " 1 - Soma \n",
            " 2 - Subtração \n",
            " 3 - Multiplicação \n",
            " 4 - Divisão \n",
            " 5 - Potenciação \n",
            " Escolha sua Opção (1/2/3/4/5): 5\n",
            "Insira o primeiro elemento: 5\n",
            "Insira o segundo elemento: 2\n",
            "Função Escolhida: Potenciação\n",
            "25\n"
          ]
        }
      ],
      "source": [
        "operacao = int(input(\"********** Calculadora Python ********** \\n Selecione a operação desejada \\n 1 - Soma \\n 2 - Subtração \\n 3 - Multiplicação \\n 4 - Divisão \\n 5 - Potenciação \\n Escolha sua Opção (1/2/3/4/5): \"))\n",
        "if operacao < 1 or operacao > 5:\n",
        "  print(\"Operação inválida!!\")\n",
        "n1 = int(input(\"Insira o primeiro elemento: \"))\n",
        "n2 = int(input(\"Insira o segundo elemento: \"))\n",
        "if operacao == 1:\n",
        "  soma(n1, n2)\n",
        "elif operacao == 2:\n",
        "  subtracao(n1, n2)\n",
        "elif operacao == 3:\n",
        "  multiplicacao(n1, n2)\n",
        "elif operacao == 4:\n",
        "  divisao(n1, n2)\n",
        "elif operacao == 5:\n",
        "  potencia(n1, n2)"
      ]
    },
    {
      "cell_type": "markdown",
      "source": [
        "Criação das Funções para as Operações Matemáticas"
      ],
      "metadata": {
        "id": "UqYnJPyHJnEf"
      }
    },
    {
      "cell_type": "code",
      "source": [
        ""
      ],
      "metadata": {
        "id": "JRD7eFT3JBE2"
      },
      "execution_count": 12,
      "outputs": []
    }
  ]
}